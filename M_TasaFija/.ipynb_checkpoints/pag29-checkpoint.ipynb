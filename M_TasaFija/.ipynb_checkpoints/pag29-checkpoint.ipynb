{
 "cells": [
  {
   "cell_type": "code",
   "execution_count": 1,
   "id": "c328a2c4",
   "metadata": {},
   "outputs": [
    {
     "name": "stdout",
     "output_type": "stream",
     "text": [
      "Ingrese el costo del activo: 89890\n",
      "Ingrese la vida util del activo: 8\n",
      "Valor de salvamento:  10000\n"
     ]
    }
   ],
   "source": [
    "#Ejercicio de la pagina 29 MATEMATICAS FINANCIERAS\n",
    "from tabulate import tabulate\n",
    "\n",
    "#Variables\n",
    "# C = Costo del activo (float)\n",
    "# N = Vida util del activo (int)\n",
    "# S = Valor del salvamento (float)\n",
    "# V = Valor en libros (array)\n",
    "# B = Base de depreciacion (float)\n",
    "# d = Tasa de depreciacion (float)\n",
    "# Dt = Valor de depreciacion (array)\n",
    "# Da = Valor de depreciacion acumulada (array)\n",
    "\n",
    "C = float(input(\"Ingrese el costo del activo: \"))\n",
    "N = float(input(\"Ingrese la vida util del activo: \"))\n",
    "\n",
    "V = [0]\n",
    "V[0] = C\n",
    "\n",
    "#Por determinacion se llego a la conclusion de que S = V[N] || 10,000.00\n",
    "S = 10000\n",
    "print(\"Valor de salvamento: \", S)"
   ]
  },
  {
   "cell_type": "code",
   "execution_count": 2,
   "id": "dbd614c2",
   "metadata": {},
   "outputs": [
    {
     "name": "stdout",
     "output_type": "stream",
     "text": [
      "Base de deprecacion:  79890.0\n"
     ]
    }
   ],
   "source": [
    "#Calcular BASE DE DEPRECIACION\n",
    "B = C - S\n",
    "\n",
    "print(\"Base de deprecacion: \", B)"
   ]
  },
  {
   "cell_type": "code",
   "execution_count": 3,
   "id": "ba4cec64",
   "metadata": {},
   "outputs": [
    {
     "name": "stdout",
     "output_type": "stream",
     "text": [
      "Tasa de depreciacion anual:  0.24004814846258715\n"
     ]
    }
   ],
   "source": [
    "#Calcular TASA DE DEPRECIACION\n",
    "\n",
    "d = 1 - (S/C)**(1/N)\n",
    "print(\"Tasa de depreciacion anual: \",d)"
   ]
  },
  {
   "cell_type": "code",
   "execution_count": 9,
   "id": "1d2becaf",
   "metadata": {},
   "outputs": [
    {
     "ename": "NameError",
     "evalue": "name 'calcularVt' is not defined",
     "output_type": "error",
     "traceback": [
      "\u001b[1;31m---------------------------------------------------------------------------\u001b[0m",
      "\u001b[1;31mNameError\u001b[0m                                 Traceback (most recent call last)",
      "\u001b[1;32m~\\AppData\\Local\\Temp\\ipykernel_22192\\816777475.py\u001b[0m in \u001b[0;36m<module>\u001b[1;34m\u001b[0m\n\u001b[0;32m      9\u001b[0m \u001b[0mtable\u001b[0m \u001b[1;33m=\u001b[0m \u001b[1;33m[\u001b[0m\u001b[1;33m]\u001b[0m\u001b[1;33m\u001b[0m\u001b[1;33m\u001b[0m\u001b[0m\n\u001b[0;32m     10\u001b[0m \u001b[1;32mfor\u001b[0m \u001b[0mi\u001b[0m \u001b[1;32min\u001b[0m \u001b[0mrange\u001b[0m\u001b[1;33m(\u001b[0m\u001b[1;36m1\u001b[0m\u001b[1;33m,\u001b[0m \u001b[0mint\u001b[0m\u001b[1;33m(\u001b[0m\u001b[0mN\u001b[0m\u001b[1;33m+\u001b[0m\u001b[1;36m1\u001b[0m\u001b[1;33m)\u001b[0m\u001b[1;33m)\u001b[0m\u001b[1;33m:\u001b[0m\u001b[1;33m\u001b[0m\u001b[1;33m\u001b[0m\u001b[0m\n\u001b[1;32m---> 11\u001b[1;33m     \u001b[0mV\u001b[0m\u001b[1;33m.\u001b[0m\u001b[0mappend\u001b[0m\u001b[1;33m(\u001b[0m\u001b[0mcalcularVt\u001b[0m\u001b[1;33m(\u001b[0m\u001b[0mi\u001b[0m\u001b[1;33m)\u001b[0m\u001b[1;33m)\u001b[0m\u001b[1;33m\u001b[0m\u001b[1;33m\u001b[0m\u001b[0m\n\u001b[0m\u001b[0;32m     12\u001b[0m     \u001b[0mDt\u001b[0m\u001b[1;33m.\u001b[0m\u001b[0mappend\u001b[0m\u001b[1;33m(\u001b[0m\u001b[0mV\u001b[0m\u001b[1;33m[\u001b[0m\u001b[0mi\u001b[0m\u001b[1;33m-\u001b[0m\u001b[1;36m1\u001b[0m\u001b[1;33m]\u001b[0m \u001b[1;33m*\u001b[0m \u001b[0md\u001b[0m\u001b[1;33m)\u001b[0m\u001b[1;33m\u001b[0m\u001b[1;33m\u001b[0m\u001b[0m\n\u001b[0;32m     13\u001b[0m     \u001b[0mDa\u001b[0m\u001b[1;33m.\u001b[0m\u001b[0mappend\u001b[0m\u001b[1;33m(\u001b[0m\u001b[0mDa\u001b[0m\u001b[1;33m[\u001b[0m\u001b[0mi\u001b[0m\u001b[1;33m-\u001b[0m\u001b[1;36m1\u001b[0m\u001b[1;33m]\u001b[0m \u001b[1;33m+\u001b[0m \u001b[0mDt\u001b[0m\u001b[1;33m[\u001b[0m\u001b[0mi\u001b[0m\u001b[1;33m]\u001b[0m\u001b[1;33m)\u001b[0m\u001b[1;33m\u001b[0m\u001b[1;33m\u001b[0m\u001b[0m\n",
      "\u001b[1;31mNameError\u001b[0m: name 'calcularVt' is not defined"
     ]
    }
   ],
   "source": [
    "#Tabulamos resultados\n",
    "\n",
    "def caluclarVt(i):\n",
    "    total =  C * (1-d)**i\n",
    "    return total\n",
    "\n",
    "Dt = [0]\n",
    "Da = [0]\n",
    "table = []\n",
    "for i in range(1, int(N+1)):\n",
    "    V.append(caluclarVt(i))\n",
    "    Dt.append(V[i-1] * d)\n",
    "    Da.append(Da[i-1] + Dt[i])\n",
    "\n",
    "for i in range(0,int(N+1)):    \n",
    "    table.append([i, d ,Dt[i], Da[i], V[i]])\n",
    "    \n",
    "print(tabulate(table, headers=[\"Año\", \"Tasa\", \"Depreciacion\", \"Depreciacion acumulada\", \"Valor del activo\"], tablefmt=\"fancy_grid\"))\n",
    "print(\"Datos finales\")\n",
    "print(\"Costo del activo: \", C)\n",
    "print(\"Vida util del activo: \", N)\n",
    "print(\"Tasa de depreciacion anual: \", d)\n",
    "print(\"Valor de salvamento: \", S)"
   ]
  },
  {
   "cell_type": "code",
   "execution_count": null,
   "id": "85d3b12f",
   "metadata": {},
   "outputs": [],
   "source": []
  }
 ],
 "metadata": {
  "kernelspec": {
   "display_name": "Python 3 (ipykernel)",
   "language": "python",
   "name": "python3"
  },
  "language_info": {
   "codemirror_mode": {
    "name": "ipython",
    "version": 3
   },
   "file_extension": ".py",
   "mimetype": "text/x-python",
   "name": "python",
   "nbconvert_exporter": "python",
   "pygments_lexer": "ipython3",
   "version": "3.9.13"
  }
 },
 "nbformat": 4,
 "nbformat_minor": 5
}
