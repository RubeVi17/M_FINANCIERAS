{
 "cells": [
  {
   "cell_type": "code",
   "execution_count": 3,
   "id": "89380629",
   "metadata": {},
   "outputs": [
    {
     "name": "stdout",
     "output_type": "stream",
     "text": [
      "Ingrese la vida util del activo: 9\n",
      "Ingrese el valor de salvamento del activo: 15500\n",
      "Valor de salvamento:  84510\n"
     ]
    }
   ],
   "source": [
    "#Ejercicio de la pagina 28 MATEMATICAS FINANCIERAS\n",
    "from tabulate import tabulate\n",
    "\n",
    "#Variables\n",
    "# C = Costo del activo (float)\n",
    "# N = Vida util del activo (int)\n",
    "# S = Valor del salvamento (float)\n",
    "# V = Valor en libros (array)\n",
    "# B = Base de depreciacion (float)\n",
    "# d = Tasa de depreciacion (float)\n",
    "# Dt = Valor de depreciacion (array)\n",
    "# Da = Valor de depreciacion acumulada (array)\n",
    "\n",
    "N = int(input(\"Ingrese la vida util del activo: \"))\n",
    "S = float(input(\"Ingrese el valor de salvamento del activo: \"))\n",
    "\n",
    "#Por determinacion del ejercicio sabemos que B = C - S || Da[N]\n",
    "B = 84510\n",
    "print(\"Valor de salvamento: \", B)\n"
   ]
  },
  {
   "cell_type": "code",
   "execution_count": 4,
   "id": "0bc4bfa0",
   "metadata": {},
   "outputs": [
    {
     "name": "stdout",
     "output_type": "stream",
     "text": [
      "Costo del activo:  100010.0\n"
     ]
    }
   ],
   "source": [
    "#Calculamos el costo del activo\n",
    "C = B + S\n",
    "\n",
    "print(\"Costo del activo: \", C)"
   ]
  },
  {
   "cell_type": "code",
   "execution_count": 5,
   "id": "78575f85",
   "metadata": {},
   "outputs": [
    {
     "name": "stdout",
     "output_type": "stream",
     "text": [
      "Tasa de depreciacion:  0.18710953372532046\n"
     ]
    }
   ],
   "source": [
    "#Calculamos tasa de depreciacion\n",
    "d = 1 - (S/C)**(1/N)\n",
    "\n",
    "print(\"Tasa de depreciacion: \", d)"
   ]
  },
  {
   "cell_type": "code",
   "execution_count": 7,
   "id": "c0779fc4",
   "metadata": {},
   "outputs": [
    {
     "name": "stdout",
     "output_type": "stream",
     "text": [
      "╒═══════╤═════════╤════════════════╤══════════════════════════╤════════════════════╕\n",
      "│   Año │    Tasa │   Depreciacion │   Depreciacion acumulada │   Valor del activo │\n",
      "╞═══════╪═════════╪════════════════╪══════════════════════════╪════════════════════╡\n",
      "│     0 │ 0.18711 │           0    │                      0   │           100010   │\n",
      "├───────┼─────────┼────────────────┼──────────────────────────┼────────────────────┤\n",
      "│     1 │ 0.18711 │       18712.8  │                  18712.8 │            81297.2 │\n",
      "├───────┼─────────┼────────────────┼──────────────────────────┼────────────────────┤\n",
      "│     2 │ 0.18711 │       15211.5  │                  33924.3 │            66085.7 │\n",
      "├───────┼─────────┼────────────────┼──────────────────────────┼────────────────────┤\n",
      "│     3 │ 0.18711 │       12365.3  │                  46289.6 │            53720.4 │\n",
      "├───────┼─────────┼────────────────┼──────────────────────────┼────────────────────┤\n",
      "│     4 │ 0.18711 │       10051.6  │                  56341.2 │            43668.8 │\n",
      "├───────┼─────────┼────────────────┼──────────────────────────┼────────────────────┤\n",
      "│     5 │ 0.18711 │        8170.85 │                  64512   │            35498   │\n",
      "├───────┼─────────┼────────────────┼──────────────────────────┼────────────────────┤\n",
      "│     6 │ 0.18711 │        6642.01 │                  71154   │            28856   │\n",
      "├───────┼─────────┼────────────────┼──────────────────────────┼────────────────────┤\n",
      "│     7 │ 0.18711 │        5399.23 │                  76553.3 │            23456.7 │\n",
      "├───────┼─────────┼────────────────┼──────────────────────────┼────────────────────┤\n",
      "│     8 │ 0.18711 │        4388.98 │                  80942.2 │            19067.8 │\n",
      "├───────┼─────────┼────────────────┼──────────────────────────┼────────────────────┤\n",
      "│     9 │ 0.18711 │        3567.76 │                  84510   │            15500   │\n",
      "╘═══════╧═════════╧════════════════╧══════════════════════════╧════════════════════╛\n",
      "Datos finales\n",
      "Costo del activo:  100010.0\n",
      "Vida util del activo:  9\n",
      "Tasa de depreciacion anual:  0.18710953372532046\n",
      "Valor de salvamento:  15500.0\n"
     ]
    }
   ],
   "source": [
    "#Generamos matrices de valores para tabulacion\n",
    "\n",
    "V = [0]\n",
    "#Asignamos el costo del activo como el primer valor de la matriz V\n",
    "V[0] = C\n",
    "Dt = [0]\n",
    "Da = [0]\n",
    "table = []\n",
    "for i in range(1, N+1):\n",
    "    V.append(C * (1-d)**i)\n",
    "    Dt.append(V[i-1]*d)\n",
    "    Da.append(Da[i-1] + Dt[i])\n",
    "    \n",
    "for i in range(0, N+1):    \n",
    "    table.append([i, d ,Dt[i], Da[i], V[i]])\n",
    "    \n",
    "print(tabulate(table, headers=[\"Año\", \"Tasa\", \"Depreciacion\", \"Depreciacion acumulada\", \"Valor del activo\"], tablefmt=\"fancy_grid\"))\n",
    "print(\"Datos finales\")\n",
    "print(\"Costo del activo: \", C)\n",
    "print(\"Vida util del activo: \", N)\n",
    "print(\"Tasa de depreciacion anual: \", d)\n",
    "print(\"Valor de salvamento: \", S)"
   ]
  },
  {
   "cell_type": "code",
   "execution_count": null,
   "id": "6ebd18d4",
   "metadata": {},
   "outputs": [],
   "source": []
  }
 ],
 "metadata": {
  "kernelspec": {
   "display_name": "Python 3 (ipykernel)",
   "language": "python",
   "name": "python3"
  },
  "language_info": {
   "codemirror_mode": {
    "name": "ipython",
    "version": 3
   },
   "file_extension": ".py",
   "mimetype": "text/x-python",
   "name": "python",
   "nbconvert_exporter": "python",
   "pygments_lexer": "ipython3",
   "version": "3.9.13"
  }
 },
 "nbformat": 4,
 "nbformat_minor": 5
}
