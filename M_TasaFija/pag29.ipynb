{
 "cells": [
  {
   "cell_type": "code",
   "execution_count": 1,
   "id": "4e8419d7",
   "metadata": {},
   "outputs": [
    {
     "name": "stdout",
     "output_type": "stream",
     "text": [
      "Ingrese el costo del activo: 89890\n",
      "Ingrese la vida util del activo: 8\n",
      "Valor de salvamento:  10000\n"
     ]
    }
   ],
   "source": [
    "#Ejercicio de la pagina 29 MATEMATICAS FINANCIERAS\n",
    "from tabulate import tabulate\n",
    "\n",
    "#Variables\n",
    "# C = Costo del activo (float)\n",
    "# N = Vida util del activo (int)\n",
    "# S = Valor del salvamento (float)\n",
    "# V = Valor en libros (array)\n",
    "# B = Base de depreciacion (float)\n",
    "# d = Tasa de depreciacion (float)\n",
    "# Dt = Valor de depreciacion (array)\n",
    "# Da = Valor de depreciacion acumulada (array)\n",
    "\n",
    "C = float(input(\"Ingrese el costo del activo: \"))\n",
    "N = float(input(\"Ingrese la vida util del activo: \"))\n",
    "\n",
    "V = [0]\n",
    "V[0] = C\n",
    "\n",
    "#Por determinacion se llego a la conclusion de que S = V[N] || 10,000.00\n",
    "S = 10000\n",
    "print(\"Valor de salvamento: \", S)"
   ]
  },
  {
   "cell_type": "code",
   "execution_count": 2,
   "id": "fbdeee63",
   "metadata": {},
   "outputs": [
    {
     "name": "stdout",
     "output_type": "stream",
     "text": [
      "Base de deprecacion:  79890.0\n"
     ]
    }
   ],
   "source": [
    "#Calcular BASE DE DEPRECIACION\n",
    "B = C - S\n",
    "\n",
    "print(\"Base de deprecacion: \", B)"
   ]
  },
  {
   "cell_type": "code",
   "execution_count": 3,
   "id": "fbcd03da",
   "metadata": {},
   "outputs": [
    {
     "name": "stdout",
     "output_type": "stream",
     "text": [
      "Tasa de depreciacion anual:  0.24004814846258715\n"
     ]
    }
   ],
   "source": [
    "#Calcular TASA DE DEPRECIACION\n",
    "\n",
    "d = 1 - (S/C)**(1/N)\n",
    "print(\"Tasa de depreciacion anual: \",d)"
   ]
  },
  {
   "cell_type": "code",
   "execution_count": 9,
   "id": "89941d5f",
   "metadata": {},
   "outputs": [
    {
     "name": "stdout",
     "output_type": "stream",
     "text": [
      "╒═══════╤══════════╤════════════════╤══════════════════════════╤════════════════════╕\n",
      "│   Año │     Tasa │   Depreciacion │   Depreciacion acumulada │   Valor del activo │\n",
      "╞═══════╪══════════╪════════════════╪══════════════════════════╪════════════════════╡\n",
      "│     0 │ 0.240048 │           0    │                      0   │            89890   │\n",
      "├───────┼──────────┼────────────────┼──────────────────────────┼────────────────────┤\n",
      "│     1 │ 0.240048 │       21577.9  │                  21577.9 │            68312.1 │\n",
      "├───────┼──────────┼────────────────┼──────────────────────────┼────────────────────┤\n",
      "│     2 │ 0.240048 │       16398.2  │                  37976.1 │            51913.9 │\n",
      "├───────┼──────────┼────────────────┼──────────────────────────┼────────────────────┤\n",
      "│     3 │ 0.240048 │       12461.8  │                  50437.9 │            39452.1 │\n",
      "├───────┼──────────┼────────────────┼──────────────────────────┼────────────────────┤\n",
      "│     4 │ 0.240048 │        9470.39 │                  59908.3 │            29981.7 │\n",
      "├───────┼──────────┼────────────────┼──────────────────────────┼────────────────────┤\n",
      "│     5 │ 0.240048 │        7197.04 │                  67105.4 │            22784.6 │\n",
      "├───────┼──────────┼────────────────┼──────────────────────────┼────────────────────┤\n",
      "│     6 │ 0.240048 │        5469.41 │                  72574.8 │            17315.2 │\n",
      "├───────┼──────────┼────────────────┼──────────────────────────┼────────────────────┤\n",
      "│     7 │ 0.240048 │        4156.48 │                  76731.3 │            13158.7 │\n",
      "├───────┼──────────┼────────────────┼──────────────────────────┼────────────────────┤\n",
      "│     8 │ 0.240048 │        3158.73 │                  79890   │            10000   │\n",
      "╘═══════╧══════════╧════════════════╧══════════════════════════╧════════════════════╛\n",
      "Datos finales\n",
      "Costo del activo:  89890.0\n",
      "Vida util del activo:  8.0\n",
      "Tasa de depreciacion anual:  0.24004814846258715\n",
      "Valor de salvamento:  10000\n"
     ]
    }
   ],
   "source": [
    "#Tabulamos resultados\n",
    "def calcularVt(i):\n",
    "    return  C * (1-d)**i\n",
    "\n",
    "def calcularDa(i):\n",
    "    return Da[i-1] + Dt[i]\n",
    "\n",
    "def calcularDt(i):\n",
    "    return V[i-1] * d\n",
    "\n",
    "Dt = [0]\n",
    "Da = [0]\n",
    "table = []\n",
    "for i in range(1, int(N+1)):\n",
    "    V.append(calcularVt(i))\n",
    "    Dt.append(calcularDt(i))\n",
    "    Da.append(calcularDa(i))\n",
    "\n",
    "for i in range(0,int(N+1)):    \n",
    "    table.append([i, d ,Dt[i], Da[i], V[i]])\n",
    "    \n",
    "print(tabulate(table, headers=[\"Año\", \"Tasa\", \"Depreciacion\", \"Depreciacion acumulada\", \"Valor del activo\"], tablefmt=\"fancy_grid\"))\n",
    "print(\"Datos finales\")\n",
    "print(\"Costo del activo: \", C)\n",
    "print(\"Vida util del activo: \", N)\n",
    "print(\"Tasa de depreciacion anual: \", d)\n",
    "print(\"Valor de salvamento: \", S)"
   ]
  },
  {
   "cell_type": "code",
   "execution_count": 5,
   "id": "9c9cbb69",
   "metadata": {},
   "outputs": [
    {
     "name": "stdout",
     "output_type": "stream",
     "text": [
      "Año a mostrar el valor en libros: 5\n",
      "22784.6188357696\n"
     ]
    }
   ],
   "source": [
    "#Solicitar el valor en libros de un periodo en especifico\n",
    "Vn = int(input(\"Año a mostrar el valor en libros: \"))\n",
    "print(calcularVt(Vn))"
   ]
  },
  {
   "cell_type": "code",
   "execution_count": 6,
   "id": "322ae5b2",
   "metadata": {},
   "outputs": [
    {
     "name": "stdout",
     "output_type": "stream",
     "text": [
      "Año a mostrar de la depreciacion acumulada: 4\n",
      "59908.33893861116\n"
     ]
    }
   ],
   "source": [
    "#Solicitar depreciacion acumulada en un periodo en especifico\n",
    "Dan = int(input(\"Año a mostrar de la depreciacion acumulada: \"))\n",
    "print(calcularDa(Dan))"
   ]
  },
  {
   "cell_type": "code",
   "execution_count": 7,
   "id": "a01f2302",
   "metadata": {},
   "outputs": [
    {
     "name": "stdout",
     "output_type": "stream",
     "text": [
      "Año a mostrar de la depreciacion anual: 5\n",
      "7197.042225619236\n"
     ]
    }
   ],
   "source": [
    "#Solicitar depreciacion anual de un periodo en especifico\n",
    "Dtn = int(input(\"Año a mostrar de la depreciacion anual: \"))\n",
    "print(calcularDt(Dtn))"
   ]
  },
  {
   "cell_type": "code",
   "execution_count": 8,
   "id": "d1d2dea5",
   "metadata": {},
   "outputs": [
    {
     "data": {
      "image/png": "[encoded data removed]",
      "text/plain": [
       "<Figure size 640x480 with 1 Axes>"
      ]
     },
     "metadata": {},
     "output_type": "display_data"
    }
   ],
   "source": [
    "#graficamos la tabla\n",
    "import matplotlib.pyplot as plt\n",
    "plt.plot(Dt, label=\"Depreciacion\")\n",
    "plt.plot(Da, label=\"Depreciacion acumulada\")\n",
    "plt.plot(V, label=\"Valor del activo\")\n",
    "plt.legend()\n",
    "plt.show()"
   ]
  },
  {
   "cell_type": "code",
   "execution_count": null,
   "id": "3dd58fc5",
   "metadata": {},
   "outputs": [],
   "source": []
  }
 ],
 "metadata": {
  "kernelspec": {
   "display_name": "Python 3 (ipykernel)",
   "language": "python",
   "name": "python3"
  },
  "language_info": {
   "codemirror_mode": {
    "name": "ipython",
    "version": 3
   },
   "file_extension": ".py",
   "mimetype": "text/x-python",
   "name": "python",
   "nbconvert_exporter": "python",
   "pygments_lexer": "ipython3",
   "version": "3.9.13"
  }
 },
 "nbformat": 4,
 "nbformat_minor": 5
}
